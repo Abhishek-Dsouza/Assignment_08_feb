{
 "cells": [
  {
   "cell_type": "markdown",
   "id": "8e203376-c7d8-40b7-8ed1-6a6529cf2e43",
   "metadata": {},
   "source": [
    "# Assignment "
   ]
  },
  {
   "cell_type": "markdown",
   "id": "006ada88-3c09-447e-ab3c-5c96fae19e2e",
   "metadata": {},
   "source": [
    "### Q1:- What is Abstraction in OOps? Explain with an example.\n"
   ]
  },
  {
   "cell_type": "markdown",
   "id": "5588e94e-399a-463f-85d4-5991314583e3",
   "metadata": {},
   "source": [
    "#### Answer:- Abstraction is one of the key concepts of Object-Oriented Programming (OOPs) that enables us to represent complex real-world scenarios in simplified and abstracted manners. It allows us to focus on the essential features of an object, ignoring its non-essential or irrelevant details.\n",
    "#### In OOPs, abstraction is achieved using abstract classes and interfaces. Abstract classes cannot be instantiated, but they can be inherited by other classes. They may contain both abstract and non-abstract methods. Abstract methods are those methods that do not have any implementation and are only declared in the abstract class. They need to be implemented by the classes that inherit them.\n",
    "#### Example:\n",
    "\n",
    "\n"
   ]
  },
  {
   "cell_type": "code",
   "execution_count": 11,
   "id": "0c5d18db-989a-4baa-9d6f-deb35d9321fb",
   "metadata": {},
   "outputs": [],
   "source": [
    "# pwskills is a Abrtact Class.\n",
    "\n",
    "class pwskills:\n",
    "    def students_details(self):\n",
    "        pass\n",
    "    def student_assignment(self):\n",
    "        pass\n",
    "    def student_marks(self):\n",
    "        pass"
   ]
  },
  {
   "cell_type": "code",
   "execution_count": 12,
   "id": "f5074ff3-258c-4788-b699-fe59df80ede1",
   "metadata": {},
   "outputs": [],
   "source": [
    "class student_details(pwskills):\n",
    "    \n",
    "    def students_details(self):\n",
    "        return \"this is a method for taking students details\"\n",
    "    def student_assignment(self):\n",
    "        return \"this is student assignment class\"\n",
    "    "
   ]
  },
  {
   "cell_type": "code",
   "execution_count": 13,
   "id": "a2210ecd-7a5a-453d-8ec5-d0423454f2ea",
   "metadata": {},
   "outputs": [],
   "source": [
    "class data_science:\n",
    "    def students_details(self):\n",
    "        return \"this is will retun a student details of data science masters\"\n",
    "    def student_assignment(self):\n",
    "        return \"this will give assignment details\""
   ]
  },
  {
   "cell_type": "code",
   "execution_count": 14,
   "id": "d09acd8b-5236-4d36-8319-e51466ee8cab",
   "metadata": {},
   "outputs": [
    {
     "data": {
      "text/plain": [
       "'this is will retun a student details of data science masters'"
      ]
     },
     "execution_count": 14,
     "metadata": {},
     "output_type": "execute_result"
    }
   ],
   "source": [
    "data = data_science()\n",
    "data.students_details()"
   ]
  },
  {
   "cell_type": "code",
   "execution_count": 15,
   "id": "4286f9f1-bbf0-47b8-aba2-cb37f5af97d8",
   "metadata": {},
   "outputs": [],
   "source": [
    "sd=student_details()"
   ]
  },
  {
   "cell_type": "code",
   "execution_count": 16,
   "id": "f3644fbc-c564-46f1-b877-fba7deb56a6b",
   "metadata": {},
   "outputs": [
    {
     "data": {
      "text/plain": [
       "'this is student assignment class'"
      ]
     },
     "execution_count": 16,
     "metadata": {},
     "output_type": "execute_result"
    }
   ],
   "source": [
    "sd.student_assignment()"
   ]
  },
  {
   "cell_type": "markdown",
   "id": "335b2998-bb8c-4002-a2d8-b79e2da68c3f",
   "metadata": {},
   "source": [
    "### Q2 :- Differentiate between Abstraction and Encapsulation. Explain with an example.\n",
    "#### Answer:-"
   ]
  },
  {
   "cell_type": "markdown",
   "id": "a696741b-08b4-4892-a177-dfca8074a116",
   "metadata": {},
   "source": [
    "#### Abstraction and Encapsulation are two fundamental concepts of object-oriented programming (OOPs) that play a vital role in building robust and maintainable software systems. Although they are closely related, there are some significant differences between them.\n",
    "\n",
    "#### Abstraction refers to the process of identifying and separating the essential characteristics of an object from its implementation details. It involves hiding the complexity of the system by providing a simplified view of it. Abstraction can be achieved through abstract classes and interfaces. It helps in designing flexible and scalable systems.\n",
    "\n",
    "#### Encapsulation, on the other hand, is the process of wrapping data and methods within a class to protect them from unauthorized access. It is the practice of hiding the internal details of an object from the outside world. Encapsulation is achieved by declaring data members as private, and providing public methods or interfaces to access them. It helps in building secure and stable systems.\n",
    "#### Let's consider an example of a Bank Account class to understand the difference between abstraction and encapsulation.\n",
    "\n"
   ]
  },
  {
   "cell_type": "code",
   "execution_count": 17,
   "id": "8eb148f3-db7f-42d6-a712-2d66df3527c7",
   "metadata": {},
   "outputs": [],
   "source": [
    "# Abstraction\n",
    "\n",
    "class BankAccount:\n",
    "    def __init__(self, account_no, balance):\n",
    "        self.account_no = account_no\n",
    "        self.balance = balance\n",
    "\n",
    "    def display_balance(self):\n",
    "        print(f\"Balance: {self.balance}\")\n",
    "\n",
    "    def deposit(self, amount):\n",
    "        self.balance += amount\n",
    "\n",
    "    def withdraw(self, amount):\n",
    "        if self.balance >= amount:\n",
    "            self.balance -= amount\n",
    "        else:\n",
    "            print(\"Insufficient balance.\")\n",
    "\n",
    "# Encapsulation\n",
    "\n",
    "class BankAccount:\n",
    "    def __init__(self, account_no, balance):\n",
    "        self.__account_no = account_no\n",
    "        self.__balance = balance\n",
    "\n",
    "    def display_balance(self):\n",
    "        print(f\"Balance: {self.__balance}\")\n",
    "\n",
    "    def deposit(self, amount):\n",
    "        self.__balance += amount\n",
    "\n",
    "    def withdraw(self, amount):\n",
    "        if self.__balance >= amount:\n",
    "            self.__balance -= amount\n",
    "        else:\n",
    "            print(\"Insufficient balance.\")\n",
    "\n",
    "    def get_account_no(self):\n",
    "        return self.__account_no\n"
   ]
  },
  {
   "cell_type": "markdown",
   "id": "2c758139-ba48-4bc5-8bc7-da92853a026f",
   "metadata": {},
   "source": [
    "### Q3 :-  What is abc module in python? Why is it used?\n",
    "#### Answer:\n"
   ]
  },
  {
   "cell_type": "markdown",
   "id": "1c247cbd-c560-4f6b-ab32-fb0e0f748e46",
   "metadata": {},
   "source": [
    "#### The abc (abstract base class) module in Python provides a way to define abstract base classes. An abstract base class is a class that cannot be instantiated and is used to define a common API for a group of related classes. It specifies the methods that must be implemented by its subclasses.\n",
    "\n",
    "#### The abc module is used to create abstract base classes, which serve as a blueprint for other classes to inherit from. By defining abstract base classes, we can ensure that the subclasses implement certain methods, and have a similar interface, which can be useful for designing complex systems.\n",
    "\n",
    "#### The abc module provides the ABCMeta metaclass, which is used to define abstract base classes. The abstract base classes are defined by inheriting from ABCMeta class and by using the @abstractmethod decorator to define abstract methods. The subclasses of these abstract base classes must implement these abstract methods, and if they do not, they will raise a TypeError exception.\n",
    "#### The abc module is particularly useful in large software systems where multiple developers are working on the same codebase. It provides a way to define a standard API that all the classes in the system must adhere to. This helps in maintaining code consistency, and makes it easier to understand and maintain the code.\n",
    "\n"
   ]
  },
  {
   "cell_type": "markdown",
   "id": "8d20dd32-bac1-409b-b6a4-60564380ce51",
   "metadata": {},
   "source": [
    "### Q4 :- How can we achieve data abstraction?\n",
    "#### Answer:"
   ]
  },
  {
   "cell_type": "markdown",
   "id": "fc252e1e-7492-46d3-9171-c7d4b4c00d52",
   "metadata": {},
   "source": [
    "#### We can achieve data abstraction in Python by using classes and objects. Abstraction is the process of hiding the complexity of a system and providing a simpler interface for the user. In object-oriented programming, abstraction is achieved by defining classes that represent the objects in a system, and providing methods to interact with these objects.\n",
    "\n",
    "#### The following are the steps to achieve data abstraction in Python:\n",
    "\n",
    "#### Define a class: To achieve data abstraction, we first need to define a class. A class is a blueprint for creating objects. It defines the attributes and methods that the objects will have.\n",
    "\n",
    "#### Hide the data: We can hide the data by using private variables or methods. In Python, we can make a variable or method private by prefixing its name with a double underscore (__).\n",
    "\n",
    "#### Provide public methods: To interact with the objects, we need to provide public methods. These methods will allow the user to access or modify the data. The public methods should not expose the implementation details of the class.\n",
    "\n"
   ]
  },
  {
   "cell_type": "code",
   "execution_count": 19,
   "id": "79e38855-48ef-4f7d-9e83-830b191e9a5d",
   "metadata": {},
   "outputs": [
    {
     "name": "stdout",
     "output_type": "stream",
     "text": [
      "Insufficient balance\n",
      "Current balance: 1500\n"
     ]
    }
   ],
   "source": [
    "class BankAccount:\n",
    "    def __init__(self, account_number, balance):\n",
    "        self.__account_number = account_number\n",
    "        self.__balance = balance\n",
    "\n",
    "    def deposit(self, amount):\n",
    "        self.__balance += amount\n",
    "\n",
    "    def withdraw(self, amount):\n",
    "        if self.__balance >= amount:\n",
    "            self.__balance -= amount\n",
    "        else:\n",
    "            print(\"Insufficient balance\")\n",
    "\n",
    "    def get_balance(self):\n",
    "        return self.__balance\n",
    "\n",
    "account = BankAccount(\"1234567890\", 1000)\n",
    "\n",
    "account.deposit(500)\n",
    "\n",
    "account.withdraw(2000)\n",
    "\n",
    "print(\"Current balance:\", account.get_balance())\n"
   ]
  },
  {
   "cell_type": "markdown",
   "id": "4bdd32ce-c6b8-4305-8aa5-ff25b7e874ed",
   "metadata": {},
   "source": [
    "### Q5 :- Can we create an instance of an abstract class? Explain your answer.\n",
    "#### Answer:"
   ]
  },
  {
   "cell_type": "markdown",
   "id": "e5f9aece-29ef-41d9-bb6e-381aae0e8993",
   "metadata": {},
   "source": [
    "#### No, we cannot create an instance of an abstract class in Python. An abstract class is a class that contains one or more abstract methods. An abstract method is a method that is declared but does not have an implementation. It is up to the subclass to provide an implementation for the abstract method.\n",
    "\n",
    "#### In Python, we can create an abstract class using the abc module. The abc module provides the ABCMeta metaclass that allows us to define abstract classes. We can define an abstract class by subclassing ABCMeta and using the @abstractmethod decorator to mark the methods as abstract.\n",
    "\n",
    "#### When we try to create an instance of an abstract class, Python will raise a TypeError. This is because an abstract class is not meant to be instantiated. It is only meant to be subclassed.\n",
    "\n"
   ]
  },
  {
   "cell_type": "code",
   "execution_count": null,
   "id": "e74bc47e-2e9c-4131-a866-0ccbdee73c0c",
   "metadata": {},
   "outputs": [],
   "source": []
  }
 ],
 "metadata": {
  "kernelspec": {
   "display_name": "Python 3 (ipykernel)",
   "language": "python",
   "name": "python3"
  },
  "language_info": {
   "codemirror_mode": {
    "name": "ipython",
    "version": 3
   },
   "file_extension": ".py",
   "mimetype": "text/x-python",
   "name": "python",
   "nbconvert_exporter": "python",
   "pygments_lexer": "ipython3",
   "version": "3.10.8"
  }
 },
 "nbformat": 4,
 "nbformat_minor": 5
}
